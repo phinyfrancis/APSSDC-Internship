{
 "cells": [
  {
   "cell_type": "code",
   "execution_count": 50,
   "metadata": {},
   "outputs": [
    {
     "name": "stdout",
     "output_type": "stream",
     "text": [
      "145SYfg&*$#\n",
      "Given string is:  145SYfg&*$#\n",
      "Given string is:  145SYfg&*$#\n",
      "Alphabets in 145SYfg&*$# is:  S Y f g\n",
      "Numbers in 145SYfg&*$# is:  1 4 5\n",
      "Special characters in 145SYfg&*$# is:  & * $ #\n"
     ]
    }
   ],
   "source": [
    "s=input()\n",
    "alp=\"\"\n",
    "num=\"\"\n",
    "sc=\"\"\n",
    "print(\"Given string is: \",s)\n",
    "for i in s:\n",
    "    if i.isalpha():\n",
    "        alp+=\" \"+i\n",
    "    elif i.isalnum():\n",
    "        num+=\" \"+i\n",
    "    elif not i.isalnum():\n",
    "        sc+=\" \"+i\n",
    "print(\"Given string is: \",s)\n",
    "print(\"Alphabets in \"+s+\" is:\",alp)\n",
    "print(\"Numbers in \"+s+\" is:\",num)\n",
    "print(\"Special characters in \"+s+\" is:\",sc)\n",
    "\n"
   ]
  },
  {
   "cell_type": "markdown",
   "metadata": {},
   "source": []
  },
  {
   "cell_type": "code",
   "execution_count": null,
   "metadata": {},
   "outputs": [],
   "source": []
  }
 ],
 "metadata": {
  "kernelspec": {
   "display_name": "Python 3",
   "language": "python",
   "name": "python3"
  },
  "language_info": {
   "codemirror_mode": {
    "name": "ipython",
    "version": 3
   },
   "file_extension": ".py",
   "mimetype": "text/x-python",
   "name": "python",
   "nbconvert_exporter": "python",
   "pygments_lexer": "ipython3",
   "version": "3.8.5"
  }
 },
 "nbformat": 4,
 "nbformat_minor": 4
}
