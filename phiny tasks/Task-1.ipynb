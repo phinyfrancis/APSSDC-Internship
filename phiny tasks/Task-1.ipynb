{
 "cells": [
  {
   "cell_type": "code",
   "execution_count": 1,
   "metadata": {},
   "outputs": [
    {
     "name": "stdout",
     "output_type": "stream",
     "text": [
      "12#@$$%yf\n",
      "Given string is:  12#@$$%yf\n",
      "Given string is:  12#@$$%yf\n",
      "Alphabets in 12#@$$%yf is:  y f\n",
      "Numbers in 12#@$$%yf is:  1 2\n",
      "Special characters in 12#@$$%yf is:  # @ $ $ %\n"
     ]
    }
   ],
   "source": [
    "s=input()\n",
    "alp=\"\"\n",
    "num=\"\"\n",
    "sc=\"\"\n",
    "print(\"Given string is: \",s)\n",
    "for i in s:\n",
    "    if i.isalpha():\n",
    "        alp+=\" \"+i\n",
    "    elif i.isalnum():\n",
    "        num+=\" \"+i\n",
    "    elif not i.isalnum():\n",
    "        sc+=\" \"+i\n",
    "print(\"Given string is: \",s)\n",
    "print(\"Alphabets in \"+s+\" is:\",alp)\n",
    "print(\"Numbers in \"+s+\" is:\",num)\n",
    "print(\"Special characters in \"+s+\" is:\",sc)\n",
    "\n"
   ]
  },
  {
   "cell_type": "markdown",
   "metadata": {},
   "source": []
  },
  {
   "cell_type": "code",
   "execution_count": 7,
   "metadata": {},
   "outputs": [
    {
     "name": "stdout",
     "output_type": "stream",
     "text": [
      "457996548895\n",
      "Given number is:  457996548895\n",
      "Even numbers are:  4 6 4 8 8 \n",
      "odd numbers are:  5 7 9 9 5 9 5 \n"
     ]
    }
   ],
   "source": [
    "def function(n):\n",
    "    print(\"Given number is: \",n)\n",
    "    ev=\"\"\n",
    "    od=\"\"\n",
    "    while(n>0):\n",
    "        r=n%10\n",
    "        n=n//10\n",
    "        if(r%2==0):\n",
    "            ev=str(r)+\" \"+ev\n",
    "        else:\n",
    "            od=str(r)+\" \"+od\n",
    "    print(\"Even numbers are: \",ev)\n",
    "    print(\"odd numbers are: \",od)\n",
    "    \n",
    "n=int(input())\n",
    "function(n)"
   ]
  },
  {
   "cell_type": "code",
   "execution_count": null,
   "metadata": {},
   "outputs": [],
   "source": []
  }
 ],
 "metadata": {
  "kernelspec": {
   "display_name": "Python 3",
   "language": "python",
   "name": "python3"
  },
  "language_info": {
   "codemirror_mode": {
    "name": "ipython",
    "version": 3
   },
   "file_extension": ".py",
   "mimetype": "text/x-python",
   "name": "python",
   "nbconvert_exporter": "python",
   "pygments_lexer": "ipython3",
   "version": "3.8.5"
  }
 },
 "nbformat": 4,
 "nbformat_minor": 4
}
